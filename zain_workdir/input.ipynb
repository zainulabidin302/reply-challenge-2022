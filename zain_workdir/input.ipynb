{
 "cells": [
  {
   "cell_type": "code",
   "execution_count": 2,
   "id": "da79a258-d6f5-4996-a47f-839defd9e862",
   "metadata": {},
   "outputs": [
    {
     "name": "stdout",
     "output_type": "stream",
     "text": [
      "5 20 10 5\n",
      "\n",
      "16 4 18 13 0 10 5 0 0 7 4 1 1 6 10 2 9\n",
      "\n",
      "2 1 11 18 0 6 1 7 3 4 7 0 5 7 9 5 6 3 9 9 0 5\n",
      "\n",
      "3 1 5 15 0 5 4 5 0 10 1 8 3 8 2 4 7 2 1\n",
      "\n",
      "7 6 10 13 8 2 5 0 0 4 3 9 6 4 1 6 4\n",
      "\n",
      "17 5 7 16 5 1 4 5 1 8 9 10 9 7 2 8 9 7 3 10\n",
      "\n"
     ]
    }
   ],
   "source": [
    "def read_input(file):\n",
    "    with open(file, 'r') as f:\n",
    "        for line in f:\n",
    "            print(line)\n",
    "file = '00-example.txt'\n",
    "read_input(file)"
   ]
  },
  {
   "cell_type": "code",
   "execution_count": null,
   "id": "83ced262-dbca-483b-a787-515c4f630378",
   "metadata": {},
   "outputs": [],
   "source": []
  }
 ],
 "metadata": {
  "kernelspec": {
   "display_name": "Py (3.7) Ipy (7.3)",
   "language": "python",
   "name": "py37-vgf-rocky-ipy7"
  },
  "language_info": {
   "codemirror_mode": {
    "name": "ipython",
    "version": 3
   },
   "file_extension": ".py",
   "mimetype": "text/x-python",
   "name": "python",
   "nbconvert_exporter": "python",
   "pygments_lexer": "ipython3",
   "version": "3.7.11"
  }
 },
 "nbformat": 4,
 "nbformat_minor": 5
}
