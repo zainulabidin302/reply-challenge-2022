{
 "cells": [
  {
   "cell_type": "code",
   "execution_count": 25,
   "id": "da79a258-d6f5-4996-a47f-839defd9e862",
   "metadata": {},
   "outputs": [],
   "source": [
    "file = '00-example.txt'\n",
    "\n",
    "output = []\n",
    "with open(file, 'r') as f:\n",
    "    firstline = f.readline()\n",
    "    S_i, S_max, T, D = firstline.split(' ')\n",
    "    S_i, S_max, T, D = int(S_i), int(S_max), int(T), int(D)\n",
    "    \n",
    "    S_c_list = []\n",
    "    T_r_list = []\n",
    "    S_r_list = []\n",
    "    N_a_list = []\n",
    "    N_a_sum_list = []\n",
    "    N_a_seq_list = []\n",
    "\n",
    "    for line in f:\n",
    "        elements = line.split(' ')\n",
    "        S_c_list.append(int(elements[0]))\n",
    "        T_r_list.append(int(elements[1]))\n",
    "        S_r_list.append(int(elements[2]))\n",
    "        N_a_list.append(int(elements[3]))\n",
    "        N_a_seq = []\n",
    "        for el in elements[4:]:\n",
    "            N_a_seq.append(int(el))\n",
    "\n",
    "        N_a_sum_list.append(sum(N_a_seq))\n",
    "        N_a_seq_list.append(N_a_seq)\n"
   ]
  },
  {
   "cell_type": "code",
   "execution_count": 26,
   "id": "83ced262-dbca-483b-a787-515c4f630378",
   "metadata": {},
   "outputs": [],
   "source": [
    "import pandas as pd\n",
    "# zip(*sorted(T_r_list, S_r_list, S_c_list, N_a_list, N_a_sum_list"
   ]
  },
  {
   "cell_type": "code",
   "execution_count": 37,
   "id": "7c1127ed-5dae-4baa-9d56-761bf059ce03",
   "metadata": {},
   "outputs": [],
   "source": [
    "demon_df = pd.DataFrame([S_c_list, T_r_list, S_r_list, N_a_list, N_a_sum_list], columns=['sc', 'tr', 'sr', 'na', 'nasum'])\n",
    "\n",
    "demon_stamina_df = demon_df.copy()\n",
    "demon_reward_df = demon_df.copy()\n",
    "\n",
    "demon_stamina_df = demon_stamina_df.sort_values(['tr', 'sr'], ascending=(True, False))\n",
    "demon_reward_df = demon_reward_df.sort_values(['nasum', 'na'], ascending=(True, False))"
   ]
  },
  {
   "cell_type": "code",
   "execution_count": 38,
   "id": "3b1b2e15-534e-4464-b32b-d3f7f33c9424",
   "metadata": {},
   "outputs": [
    {
     "data": {
      "text/plain": [
       "(5, 5)"
      ]
     },
     "execution_count": 38,
     "metadata": {},
     "output_type": "execute_result"
    }
   ],
   "source": [
    "demon_reward_df.shape"
   ]
  },
  {
   "cell_type": "code",
   "execution_count": 36,
   "id": "5e800fca-9f4f-4aca-b365-56bd4d084f16",
   "metadata": {},
   "outputs": [
    {
     "data": {
      "text/html": [
       "<div>\n",
       "<style scoped>\n",
       "    .dataframe tbody tr th:only-of-type {\n",
       "        vertical-align: middle;\n",
       "    }\n",
       "\n",
       "    .dataframe tbody tr th {\n",
       "        vertical-align: top;\n",
       "    }\n",
       "\n",
       "    .dataframe thead th {\n",
       "        text-align: right;\n",
       "    }\n",
       "</style>\n",
       "<table border=\"1\" class=\"dataframe\">\n",
       "  <thead>\n",
       "    <tr style=\"text-align: right;\">\n",
       "      <th></th>\n",
       "      <th>sc</th>\n",
       "      <th>tr</th>\n",
       "      <th>sr</th>\n",
       "      <th>na</th>\n",
       "      <th>nasum</th>\n",
       "    </tr>\n",
       "  </thead>\n",
       "  <tbody>\n",
       "    <tr>\n",
       "      <th>1</th>\n",
       "      <td>4</td>\n",
       "      <td>1</td>\n",
       "      <td>1</td>\n",
       "      <td>6</td>\n",
       "      <td>5</td>\n",
       "    </tr>\n",
       "    <tr>\n",
       "      <th>0</th>\n",
       "      <td>16</td>\n",
       "      <td>2</td>\n",
       "      <td>3</td>\n",
       "      <td>7</td>\n",
       "      <td>17</td>\n",
       "    </tr>\n",
       "    <tr>\n",
       "      <th>2</th>\n",
       "      <td>18</td>\n",
       "      <td>11</td>\n",
       "      <td>5</td>\n",
       "      <td>10</td>\n",
       "      <td>7</td>\n",
       "    </tr>\n",
       "    <tr>\n",
       "      <th>3</th>\n",
       "      <td>13</td>\n",
       "      <td>18</td>\n",
       "      <td>15</td>\n",
       "      <td>13</td>\n",
       "      <td>16</td>\n",
       "    </tr>\n",
       "    <tr>\n",
       "      <th>4</th>\n",
       "      <td>55</td>\n",
       "      <td>86</td>\n",
       "      <td>60</td>\n",
       "      <td>52</td>\n",
       "      <td>98</td>\n",
       "    </tr>\n",
       "  </tbody>\n",
       "</table>\n",
       "</div>"
      ],
      "text/plain": [
       "   sc  tr  sr  na  nasum\n",
       "1   4   1   1   6      5\n",
       "0  16   2   3   7     17\n",
       "2  18  11   5  10      7\n",
       "3  13  18  15  13     16\n",
       "4  55  86  60  52     98"
      ]
     },
     "execution_count": 36,
     "metadata": {},
     "output_type": "execute_result"
    }
   ],
   "source": [
    "stamina_recovery_list = []\n",
    "rewards_list = []\n",
    "current_stamina = S_i\n",
    "deamon_index\n",
    "for t_i in T:\n",
    "    # recover\n",
    "    if len(stamina_recovery_list) > 0:\n",
    "        current_stamina += stamina_recovery_list.pop(0)\n",
    "        \n",
    "    # fight\n",
    "    if current_stamina > demon_reward_df:\n",
    "        current_stamina += stamina_recovery_list.pop(0)\n",
    "    \n",
    "    # reward\n",
    "    "
   ]
  },
  {
   "cell_type": "code",
   "execution_count": null,
   "id": "9d625b56-0a3c-4a87-a878-78bc202efe80",
   "metadata": {},
   "outputs": [],
   "source": []
  }
 ],
 "metadata": {
  "kernelspec": {
   "display_name": "Py (3.7) Ipy (7.3)",
   "language": "python",
   "name": "py37-vgf-rocky-ipy7"
  },
  "language_info": {
   "codemirror_mode": {
    "name": "ipython",
    "version": 3
   },
   "file_extension": ".py",
   "mimetype": "text/x-python",
   "name": "python",
   "nbconvert_exporter": "python",
   "pygments_lexer": "ipython3",
   "version": "3.7.11"
  }
 },
 "nbformat": 4,
 "nbformat_minor": 5
}
